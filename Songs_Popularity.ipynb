{
 "cells": [
  {
   "cell_type": "code",
   "execution_count": 113,
   "metadata": {},
   "outputs": [],
   "source": [
    "import numpy as np\n",
    "import pandas as pd\n",
    "import matplotlib.pyplot as plt\n",
    "import seaborn as sns\n",
    "from scipy import stats\n",
    "import re\n",
    "\n",
    "%matplotlib inline"
   ]
  },
  {
   "cell_type": "markdown",
   "metadata": {},
   "source": [
    "<h1> Data Acquisition </h1>\n",
    "<h5>Hackathon Name: Chartbusters prediction Foretell Popularity of Songs</h5>\n",
    "Hackathin Link: https://analyticsindiamag.com/chartbusters-prediction-foretell-the-popularity-of-songs/\n",
    "<h5>Data type: csv</h5>\n",
    "<h4> Rank : 114/798 </h4>\n",
    "First Hackathon\n",
    "\n",
    "Read the data using pandas library"
   ]
  },
  {
   "cell_type": "code",
   "execution_count": 3,
   "metadata": {},
   "outputs": [
    {
     "data": {
      "text/html": [
       "<div>\n",
       "<style scoped>\n",
       "    .dataframe tbody tr th:only-of-type {\n",
       "        vertical-align: middle;\n",
       "    }\n",
       "\n",
       "    .dataframe tbody tr th {\n",
       "        vertical-align: top;\n",
       "    }\n",
       "\n",
       "    .dataframe thead th {\n",
       "        text-align: right;\n",
       "    }\n",
       "</style>\n",
       "<table border=\"1\" class=\"dataframe\">\n",
       "  <thead>\n",
       "    <tr style=\"text-align: right;\">\n",
       "      <th></th>\n",
       "      <th>Unique_ID</th>\n",
       "      <th>Name</th>\n",
       "      <th>Genre</th>\n",
       "      <th>Country</th>\n",
       "      <th>Song_Name</th>\n",
       "      <th>Timestamp</th>\n",
       "      <th>Views</th>\n",
       "      <th>Comments</th>\n",
       "      <th>Likes</th>\n",
       "      <th>Popularity</th>\n",
       "      <th>Followers</th>\n",
       "    </tr>\n",
       "  </thead>\n",
       "  <tbody>\n",
       "    <tr>\n",
       "      <th>0</th>\n",
       "      <td>413890</td>\n",
       "      <td>Hardstyle</td>\n",
       "      <td>danceedm</td>\n",
       "      <td>AU</td>\n",
       "      <td>N-Vitral presents BOMBSQUAD - Poison Spitter (...</td>\n",
       "      <td>2018-03-30 15:24:45.000000</td>\n",
       "      <td>14017</td>\n",
       "      <td>4</td>\n",
       "      <td>499</td>\n",
       "      <td>97</td>\n",
       "      <td>119563</td>\n",
       "    </tr>\n",
       "    <tr>\n",
       "      <th>1</th>\n",
       "      <td>249453</td>\n",
       "      <td>Dj Aladdin</td>\n",
       "      <td>danceedm</td>\n",
       "      <td>AU</td>\n",
       "      <td>Dj Aladdin - Old School Hip Hop Quick Mix</td>\n",
       "      <td>2016-06-20 05:58:52.000000</td>\n",
       "      <td>1918</td>\n",
       "      <td>17</td>\n",
       "      <td>49</td>\n",
       "      <td>17</td>\n",
       "      <td>2141</td>\n",
       "    </tr>\n",
       "    <tr>\n",
       "      <th>2</th>\n",
       "      <td>681116</td>\n",
       "      <td>Maxximize On Air</td>\n",
       "      <td>danceedm</td>\n",
       "      <td>AU</td>\n",
       "      <td>Maxximize On Air - Mixed by Blasterjaxx - Epis...</td>\n",
       "      <td>2015-05-08 17:45:59.000000</td>\n",
       "      <td>9668</td>\n",
       "      <td>11</td>\n",
       "      <td>312</td>\n",
       "      <td>91</td>\n",
       "      <td>22248</td>\n",
       "    </tr>\n",
       "    <tr>\n",
       "      <th>3</th>\n",
       "      <td>387253</td>\n",
       "      <td>GR6 EXPLODE</td>\n",
       "      <td>rbsoul</td>\n",
       "      <td>AU</td>\n",
       "      <td>MC Yago - Tenho Compromisso (DJ R7)</td>\n",
       "      <td>2017-06-08 23:50:03.000000</td>\n",
       "      <td>113036</td>\n",
       "      <td>2</td>\n",
       "      <td>2,400</td>\n",
       "      <td>76</td>\n",
       "      <td>393655</td>\n",
       "    </tr>\n",
       "    <tr>\n",
       "      <th>4</th>\n",
       "      <td>1428029</td>\n",
       "      <td>Tritonal</td>\n",
       "      <td>danceedm</td>\n",
       "      <td>AU</td>\n",
       "      <td>Escape (feat. Steph Jones)</td>\n",
       "      <td>2016-09-17 20:50:19.000000</td>\n",
       "      <td>110024</td>\n",
       "      <td>81</td>\n",
       "      <td>3,031</td>\n",
       "      <td>699</td>\n",
       "      <td>201030</td>\n",
       "    </tr>\n",
       "  </tbody>\n",
       "</table>\n",
       "</div>"
      ],
      "text/plain": [
       "   Unique_ID              Name     Genre Country  \\\n",
       "0     413890         Hardstyle  danceedm      AU   \n",
       "1     249453        Dj Aladdin  danceedm      AU   \n",
       "2     681116  Maxximize On Air  danceedm      AU   \n",
       "3     387253       GR6 EXPLODE    rbsoul      AU   \n",
       "4    1428029          Tritonal  danceedm      AU   \n",
       "\n",
       "                                           Song_Name  \\\n",
       "0  N-Vitral presents BOMBSQUAD - Poison Spitter (...   \n",
       "1          Dj Aladdin - Old School Hip Hop Quick Mix   \n",
       "2  Maxximize On Air - Mixed by Blasterjaxx - Epis...   \n",
       "3                MC Yago - Tenho Compromisso (DJ R7)   \n",
       "4                         Escape (feat. Steph Jones)   \n",
       "\n",
       "                    Timestamp   Views  Comments  Likes Popularity  Followers  \n",
       "0  2018-03-30 15:24:45.000000   14017         4    499         97     119563  \n",
       "1  2016-06-20 05:58:52.000000    1918        17     49         17       2141  \n",
       "2  2015-05-08 17:45:59.000000    9668        11    312         91      22248  \n",
       "3  2017-06-08 23:50:03.000000  113036         2  2,400         76     393655  \n",
       "4  2016-09-17 20:50:19.000000  110024        81  3,031        699     201030  "
      ]
     },
     "execution_count": 3,
     "metadata": {},
     "output_type": "execute_result"
    }
   ],
   "source": [
    "data_train = pd.read_csv(\"Data_Train.csv\")\n",
    "data_train.head()"
   ]
  },
  {
   "cell_type": "code",
   "execution_count": 22,
   "metadata": {},
   "outputs": [
    {
     "data": {
      "text/plain": [
       "Index(['Unique_ID', 'Name', 'Genre', 'Country', 'Song_Name', 'Timestamp',\n",
       "       'Views', 'Comments', 'Likes', 'Popularity', 'Followers'],\n",
       "      dtype='object')"
      ]
     },
     "execution_count": 22,
     "metadata": {},
     "output_type": "execute_result"
    }
   ],
   "source": [
    "data_train.columns"
   ]
  },
  {
   "cell_type": "markdown",
   "metadata": {},
   "source": [
    "Feature: 'Unique_ID', 'Name', 'Genre', 'Country', 'Song_Name', 'Timestamp',\n",
    "        'Comments', 'Likes', 'Popularity', 'Followers'\n",
    "        \n",
    "        \n",
    "Target: 'Views'"
   ]
  },
  {
   "cell_type": "markdown",
   "metadata": {},
   "source": [
    "Check the data types of the data set"
   ]
  },
  {
   "cell_type": "code",
   "execution_count": 6,
   "metadata": {},
   "outputs": [
    {
     "data": {
      "text/plain": [
       "Unique_ID      int64\n",
       "Name          object\n",
       "Genre         object\n",
       "Country       object\n",
       "Song_Name     object\n",
       "Timestamp     object\n",
       "Views          int64\n",
       "Comments       int64\n",
       "Likes         object\n",
       "Popularity    object\n",
       "Followers      int64\n",
       "dtype: object"
      ]
     },
     "execution_count": 6,
     "metadata": {},
     "output_type": "execute_result"
    }
   ],
   "source": [
    "data_train.dtypes"
   ]
  },
  {
   "cell_type": "code",
   "execution_count": 7,
   "metadata": {},
   "outputs": [],
   "source": [
    "data_train['Likes'] = data_train['Likes'].apply(lambda s:s.replace(',',''))"
   ]
  },
  {
   "cell_type": "code",
   "execution_count": 8,
   "metadata": {},
   "outputs": [],
   "source": [
    "def func(x):\n",
    "    if x[-1] == 'K':\n",
    "        return 1000*pd.to_numeric(re.sub('[^\\d.]', '', x))\n",
    "    elif x[-1] == 'M':\n",
    "        return 1000000*pd.to_numeric(re.sub('[^\\d.]', '', x))\n",
    "    else:\n",
    "        return pd.to_numeric(x)\n",
    "data_train.Likes = data_train.Likes.apply(func)\n",
    "data_train.Likes = data_train.Likes.astype(int)"
   ]
  },
  {
   "cell_type": "code",
   "execution_count": 9,
   "metadata": {},
   "outputs": [],
   "source": [
    "data_train['Popularity'] = data_train['Popularity'].apply(lambda s:s.replace(',',''))"
   ]
  },
  {
   "cell_type": "code",
   "execution_count": 10,
   "metadata": {},
   "outputs": [],
   "source": [
    "def func(x):\n",
    "    if x[-1] == 'K':\n",
    "        return 1000*pd.to_numeric(re.sub('[^\\d.]', '', x))\n",
    "    elif x[-1] == 'M':\n",
    "        return 1000000*pd.to_numeric(re.sub('[^\\d.]', '', x))\n",
    "    else:\n",
    "        return pd.to_numeric(x)\n",
    "data_train.Popularity = data_train.Popularity.apply(func)\n",
    "data_train.Popularity = data_train.Popularity.astype(int)"
   ]
  },
  {
   "cell_type": "code",
   "execution_count": 11,
   "metadata": {},
   "outputs": [
    {
     "data": {
      "text/plain": [
       "Unique_ID      int64\n",
       "Name          object\n",
       "Genre         object\n",
       "Country       object\n",
       "Song_Name     object\n",
       "Timestamp     object\n",
       "Views          int64\n",
       "Comments       int64\n",
       "Likes          int32\n",
       "Popularity     int32\n",
       "Followers      int64\n",
       "dtype: object"
      ]
     },
     "execution_count": 11,
     "metadata": {},
     "output_type": "execute_result"
    }
   ],
   "source": [
    "data_train.dtypes"
   ]
  },
  {
   "cell_type": "code",
   "execution_count": 12,
   "metadata": {},
   "outputs": [
    {
     "data": {
      "text/html": [
       "<div>\n",
       "<style scoped>\n",
       "    .dataframe tbody tr th:only-of-type {\n",
       "        vertical-align: middle;\n",
       "    }\n",
       "\n",
       "    .dataframe tbody tr th {\n",
       "        vertical-align: top;\n",
       "    }\n",
       "\n",
       "    .dataframe thead th {\n",
       "        text-align: right;\n",
       "    }\n",
       "</style>\n",
       "<table border=\"1\" class=\"dataframe\">\n",
       "  <thead>\n",
       "    <tr style=\"text-align: right;\">\n",
       "      <th></th>\n",
       "      <th>Unique_ID</th>\n",
       "      <th>Views</th>\n",
       "      <th>Comments</th>\n",
       "      <th>Likes</th>\n",
       "      <th>Popularity</th>\n",
       "      <th>Followers</th>\n",
       "    </tr>\n",
       "  </thead>\n",
       "  <tbody>\n",
       "    <tr>\n",
       "      <th>count</th>\n",
       "      <td>7.845800e+04</td>\n",
       "      <td>7.845800e+04</td>\n",
       "      <td>78458.000000</td>\n",
       "      <td>7.845800e+04</td>\n",
       "      <td>78458.000000</td>\n",
       "      <td>7.845800e+04</td>\n",
       "    </tr>\n",
       "    <tr>\n",
       "      <th>mean</th>\n",
       "      <td>7.451701e+05</td>\n",
       "      <td>5.469686e+05</td>\n",
       "      <td>115.270973</td>\n",
       "      <td>8.821457e+03</td>\n",
       "      <td>920.825474</td>\n",
       "      <td>4.787663e+05</td>\n",
       "    </tr>\n",
       "    <tr>\n",
       "      <th>std</th>\n",
       "      <td>4.805507e+05</td>\n",
       "      <td>3.883085e+06</td>\n",
       "      <td>724.614868</td>\n",
       "      <td>5.277438e+04</td>\n",
       "      <td>4810.373885</td>\n",
       "      <td>1.168120e+06</td>\n",
       "    </tr>\n",
       "    <tr>\n",
       "      <th>min</th>\n",
       "      <td>0.000000e+00</td>\n",
       "      <td>0.000000e+00</td>\n",
       "      <td>0.000000</td>\n",
       "      <td>0.000000e+00</td>\n",
       "      <td>0.000000</td>\n",
       "      <td>1.000000e+00</td>\n",
       "    </tr>\n",
       "    <tr>\n",
       "      <th>25%</th>\n",
       "      <td>3.149512e+05</td>\n",
       "      <td>6.216500e+03</td>\n",
       "      <td>1.000000</td>\n",
       "      <td>1.290000e+02</td>\n",
       "      <td>13.000000</td>\n",
       "      <td>1.770000e+04</td>\n",
       "    </tr>\n",
       "    <tr>\n",
       "      <th>50%</th>\n",
       "      <td>6.618655e+05</td>\n",
       "      <td>2.538650e+04</td>\n",
       "      <td>12.000000</td>\n",
       "      <td>6.660000e+02</td>\n",
       "      <td>87.000000</td>\n",
       "      <td>8.768200e+04</td>\n",
       "    </tr>\n",
       "    <tr>\n",
       "      <th>75%</th>\n",
       "      <td>1.176618e+06</td>\n",
       "      <td>1.201342e+05</td>\n",
       "      <td>61.000000</td>\n",
       "      <td>2.856750e+03</td>\n",
       "      <td>405.000000</td>\n",
       "      <td>3.936550e+05</td>\n",
       "    </tr>\n",
       "    <tr>\n",
       "      <th>max</th>\n",
       "      <td>1.570012e+06</td>\n",
       "      <td>1.994050e+08</td>\n",
       "      <td>104082.000000</td>\n",
       "      <td>2.770000e+06</td>\n",
       "      <td>324000.000000</td>\n",
       "      <td>9.789123e+06</td>\n",
       "    </tr>\n",
       "  </tbody>\n",
       "</table>\n",
       "</div>"
      ],
      "text/plain": [
       "          Unique_ID         Views       Comments         Likes     Popularity  \\\n",
       "count  7.845800e+04  7.845800e+04   78458.000000  7.845800e+04   78458.000000   \n",
       "mean   7.451701e+05  5.469686e+05     115.270973  8.821457e+03     920.825474   \n",
       "std    4.805507e+05  3.883085e+06     724.614868  5.277438e+04    4810.373885   \n",
       "min    0.000000e+00  0.000000e+00       0.000000  0.000000e+00       0.000000   \n",
       "25%    3.149512e+05  6.216500e+03       1.000000  1.290000e+02      13.000000   \n",
       "50%    6.618655e+05  2.538650e+04      12.000000  6.660000e+02      87.000000   \n",
       "75%    1.176618e+06  1.201342e+05      61.000000  2.856750e+03     405.000000   \n",
       "max    1.570012e+06  1.994050e+08  104082.000000  2.770000e+06  324000.000000   \n",
       "\n",
       "          Followers  \n",
       "count  7.845800e+04  \n",
       "mean   4.787663e+05  \n",
       "std    1.168120e+06  \n",
       "min    1.000000e+00  \n",
       "25%    1.770000e+04  \n",
       "50%    8.768200e+04  \n",
       "75%    3.936550e+05  \n",
       "max    9.789123e+06  "
      ]
     },
     "execution_count": 12,
     "metadata": {},
     "output_type": "execute_result"
    }
   ],
   "source": [
    "data_train.describe()"
   ]
  },
  {
   "cell_type": "code",
   "execution_count": 13,
   "metadata": {},
   "outputs": [
    {
     "name": "stdout",
     "output_type": "stream",
     "text": [
      "<class 'pandas.core.frame.DataFrame'>\n",
      "RangeIndex: 78458 entries, 0 to 78457\n",
      "Data columns (total 11 columns):\n",
      " #   Column      Non-Null Count  Dtype \n",
      "---  ------      --------------  ----- \n",
      " 0   Unique_ID   78458 non-null  int64 \n",
      " 1   Name        78458 non-null  object\n",
      " 2   Genre       78458 non-null  object\n",
      " 3   Country     78458 non-null  object\n",
      " 4   Song_Name   78457 non-null  object\n",
      " 5   Timestamp   78458 non-null  object\n",
      " 6   Views       78458 non-null  int64 \n",
      " 7   Comments    78458 non-null  int64 \n",
      " 8   Likes       78458 non-null  int32 \n",
      " 9   Popularity  78458 non-null  int32 \n",
      " 10  Followers   78458 non-null  int64 \n",
      "dtypes: int32(2), int64(4), object(5)\n",
      "memory usage: 4.5+ MB\n"
     ]
    }
   ],
   "source": [
    "data_train.info()"
   ]
  },
  {
   "cell_type": "code",
   "execution_count": 16,
   "metadata": {},
   "outputs": [
    {
     "data": {
      "text/plain": [
       "21"
      ]
     },
     "execution_count": 16,
     "metadata": {},
     "output_type": "execute_result"
    }
   ],
   "source": [
    "data_train['Genre'].nunique()"
   ]
  },
  {
   "cell_type": "code",
   "execution_count": 17,
   "metadata": {},
   "outputs": [
    {
     "data": {
      "text/plain": [
       "array(['danceedm', 'rbsoul', 'all-music', 'trap', 'latin', 'electronic',\n",
       "       'deephouse', 'hiphoprap', 'classical', 'ambient', 'pop', 'rock',\n",
       "       'reggaeton', 'country', 'disco', 'alternativerock', 'dubstep',\n",
       "       'drumbass', 'metal', 'folksingersongwriter', 'indie'], dtype=object)"
      ]
     },
     "execution_count": 17,
     "metadata": {},
     "output_type": "execute_result"
    }
   ],
   "source": [
    "data_train['Genre'].unique()"
   ]
  },
  {
   "cell_type": "code",
   "execution_count": 19,
   "metadata": {},
   "outputs": [
    {
     "data": {
      "text/plain": [
       "array(['AU'], dtype=object)"
      ]
     },
     "execution_count": 19,
     "metadata": {},
     "output_type": "execute_result"
    }
   ],
   "source": [
    "data_train['Country'].unique()"
   ]
  },
  {
   "cell_type": "code",
   "execution_count": 20,
   "metadata": {},
   "outputs": [
    {
     "data": {
      "text/html": [
       "<div>\n",
       "<style scoped>\n",
       "    .dataframe tbody tr th:only-of-type {\n",
       "        vertical-align: middle;\n",
       "    }\n",
       "\n",
       "    .dataframe tbody tr th {\n",
       "        vertical-align: top;\n",
       "    }\n",
       "\n",
       "    .dataframe thead th {\n",
       "        text-align: right;\n",
       "    }\n",
       "</style>\n",
       "<table border=\"1\" class=\"dataframe\">\n",
       "  <thead>\n",
       "    <tr style=\"text-align: right;\">\n",
       "      <th></th>\n",
       "      <th>Unique_ID</th>\n",
       "      <th>Views</th>\n",
       "      <th>Comments</th>\n",
       "      <th>Likes</th>\n",
       "      <th>Popularity</th>\n",
       "      <th>Followers</th>\n",
       "    </tr>\n",
       "  </thead>\n",
       "  <tbody>\n",
       "    <tr>\n",
       "      <th>Unique_ID</th>\n",
       "      <td>1.000000</td>\n",
       "      <td>-0.008956</td>\n",
       "      <td>-0.007223</td>\n",
       "      <td>-0.011162</td>\n",
       "      <td>-0.008448</td>\n",
       "      <td>-0.026958</td>\n",
       "    </tr>\n",
       "    <tr>\n",
       "      <th>Views</th>\n",
       "      <td>-0.008956</td>\n",
       "      <td>1.000000</td>\n",
       "      <td>0.679104</td>\n",
       "      <td>0.980132</td>\n",
       "      <td>0.834635</td>\n",
       "      <td>0.103603</td>\n",
       "    </tr>\n",
       "    <tr>\n",
       "      <th>Comments</th>\n",
       "      <td>-0.007223</td>\n",
       "      <td>0.679104</td>\n",
       "      <td>1.000000</td>\n",
       "      <td>0.656645</td>\n",
       "      <td>0.641815</td>\n",
       "      <td>0.085034</td>\n",
       "    </tr>\n",
       "    <tr>\n",
       "      <th>Likes</th>\n",
       "      <td>-0.011162</td>\n",
       "      <td>0.980132</td>\n",
       "      <td>0.656645</td>\n",
       "      <td>1.000000</td>\n",
       "      <td>0.869048</td>\n",
       "      <td>0.110321</td>\n",
       "    </tr>\n",
       "    <tr>\n",
       "      <th>Popularity</th>\n",
       "      <td>-0.008448</td>\n",
       "      <td>0.834635</td>\n",
       "      <td>0.641815</td>\n",
       "      <td>0.869048</td>\n",
       "      <td>1.000000</td>\n",
       "      <td>0.138454</td>\n",
       "    </tr>\n",
       "    <tr>\n",
       "      <th>Followers</th>\n",
       "      <td>-0.026958</td>\n",
       "      <td>0.103603</td>\n",
       "      <td>0.085034</td>\n",
       "      <td>0.110321</td>\n",
       "      <td>0.138454</td>\n",
       "      <td>1.000000</td>\n",
       "    </tr>\n",
       "  </tbody>\n",
       "</table>\n",
       "</div>"
      ],
      "text/plain": [
       "            Unique_ID     Views  Comments     Likes  Popularity  Followers\n",
       "Unique_ID    1.000000 -0.008956 -0.007223 -0.011162   -0.008448  -0.026958\n",
       "Views       -0.008956  1.000000  0.679104  0.980132    0.834635   0.103603\n",
       "Comments    -0.007223  0.679104  1.000000  0.656645    0.641815   0.085034\n",
       "Likes       -0.011162  0.980132  0.656645  1.000000    0.869048   0.110321\n",
       "Popularity  -0.008448  0.834635  0.641815  0.869048    1.000000   0.138454\n",
       "Followers   -0.026958  0.103603  0.085034  0.110321    0.138454   1.000000"
      ]
     },
     "execution_count": 20,
     "metadata": {},
     "output_type": "execute_result"
    }
   ],
   "source": [
    "data_train.corr()"
   ]
  },
  {
   "cell_type": "code",
   "execution_count": 21,
   "metadata": {},
   "outputs": [
    {
     "data": {
      "text/html": [
       "<div>\n",
       "<style scoped>\n",
       "    .dataframe tbody tr th:only-of-type {\n",
       "        vertical-align: middle;\n",
       "    }\n",
       "\n",
       "    .dataframe tbody tr th {\n",
       "        vertical-align: top;\n",
       "    }\n",
       "\n",
       "    .dataframe thead th {\n",
       "        text-align: right;\n",
       "    }\n",
       "</style>\n",
       "<table border=\"1\" class=\"dataframe\">\n",
       "  <thead>\n",
       "    <tr style=\"text-align: right;\">\n",
       "      <th></th>\n",
       "      <th>Views</th>\n",
       "      <th>Comments</th>\n",
       "      <th>Likes</th>\n",
       "      <th>Popularity</th>\n",
       "    </tr>\n",
       "  </thead>\n",
       "  <tbody>\n",
       "    <tr>\n",
       "      <th>Views</th>\n",
       "      <td>1.000000</td>\n",
       "      <td>0.679104</td>\n",
       "      <td>0.980132</td>\n",
       "      <td>0.834635</td>\n",
       "    </tr>\n",
       "    <tr>\n",
       "      <th>Comments</th>\n",
       "      <td>0.679104</td>\n",
       "      <td>1.000000</td>\n",
       "      <td>0.656645</td>\n",
       "      <td>0.641815</td>\n",
       "    </tr>\n",
       "    <tr>\n",
       "      <th>Likes</th>\n",
       "      <td>0.980132</td>\n",
       "      <td>0.656645</td>\n",
       "      <td>1.000000</td>\n",
       "      <td>0.869048</td>\n",
       "    </tr>\n",
       "    <tr>\n",
       "      <th>Popularity</th>\n",
       "      <td>0.834635</td>\n",
       "      <td>0.641815</td>\n",
       "      <td>0.869048</td>\n",
       "      <td>1.000000</td>\n",
       "    </tr>\n",
       "  </tbody>\n",
       "</table>\n",
       "</div>"
      ],
      "text/plain": [
       "               Views  Comments     Likes  Popularity\n",
       "Views       1.000000  0.679104  0.980132    0.834635\n",
       "Comments    0.679104  1.000000  0.656645    0.641815\n",
       "Likes       0.980132  0.656645  1.000000    0.869048\n",
       "Popularity  0.834635  0.641815  0.869048    1.000000"
      ]
     },
     "execution_count": 21,
     "metadata": {},
     "output_type": "execute_result"
    }
   ],
   "source": [
    "data_train[['Views','Comments','Likes','Popularity']].corr()"
   ]
  },
  {
   "cell_type": "code",
   "execution_count": 24,
   "metadata": {},
   "outputs": [
    {
     "data": {
      "text/plain": [
       "<AxesSubplot:xlabel='Comments', ylabel='Views'>"
      ]
     },
     "execution_count": 24,
     "metadata": {},
     "output_type": "execute_result"
    },
    {
     "data": {
      "image/png": "[encoded data removed]",
      "text/plain": [
       "<Figure size 432x288 with 1 Axes>"
      ]
     },
     "metadata": {
      "needs_background": "light"
     },
     "output_type": "display_data"
    }
   ],
   "source": [
    "# Comments as potential predictor of variables\n",
    "sns.regplot(x='Comments', y='Views', data=data_train)"
   ]
  },
  {
   "cell_type": "code",
   "execution_count": 25,
   "metadata": {},
   "outputs": [
    {
     "data": {
      "text/plain": [
       "<AxesSubplot:xlabel='Likes', ylabel='Views'>"
      ]
     },
     "execution_count": 25,
     "metadata": {},
     "output_type": "execute_result"
    },
    {
     "data": {
      "image/png": "[encoded data removed]",
      "text/plain": [
       "<Figure size 432x288 with 1 Axes>"
      ]
     },
     "metadata": {
      "needs_background": "light"
     },
     "output_type": "display_data"
    }
   ],
   "source": [
    "# Likes as potential predictor of variables\n",
    "sns.regplot(x='Likes', y='Views', data=data_train)"
   ]
  },
  {
   "cell_type": "markdown",
   "metadata": {},
   "source": [
    "<p>As the likes goes up, the views goes up: this indicates a positive direct correlation between these two variables. The number of likes seems like a pretty good predictor of views since the regression line is almost a perfect diagonal line.</p>\n"
   ]
  },
  {
   "cell_type": "code",
   "execution_count": 27,
   "metadata": {},
   "outputs": [
    {
     "data": {
      "text/plain": [
       "<AxesSubplot:xlabel='Popularity', ylabel='Views'>"
      ]
     },
     "execution_count": 27,
     "metadata": {},
     "output_type": "execute_result"
    },
    {
     "data": {
      "image/png": "[encoded data removed]",
      "text/plain": [
       "<Figure size 432x288 with 1 Axes>"
      ]
     },
     "metadata": {
      "needs_background": "light"
     },
     "output_type": "display_data"
    }
   ],
   "source": [
    "# Popularity as potential predictor of variables\n",
    "sns.regplot(x='Popularity', y='Views', data=data_train)"
   ]
  },
  {
   "cell_type": "code",
   "execution_count": 28,
   "metadata": {},
   "outputs": [
    {
     "data": {
      "text/plain": [
       "<AxesSubplot:xlabel='Followers', ylabel='Views'>"
      ]
     },
     "execution_count": 28,
     "metadata": {},
     "output_type": "execute_result"
    },
    {
     "data": {
      "image/png": "[encoded data removed]",
      "text/plain": [
       "<Figure size 432x288 with 1 Axes>"
      ]
     },
     "metadata": {
      "needs_background": "light"
     },
     "output_type": "display_data"
    }
   ],
   "source": [
    "# Followers as potential predictor of variables\n",
    "sns.regplot(x='Followers', y='Views', data=data_train)"
   ]
  },
  {
   "cell_type": "markdown",
   "metadata": {},
   "source": [
    "<p>Followers does not seem like a good predictor of the Views at all since the regression line is close to horizontal. Also, the data points are very scattered and far from the fitted line, showing lots of variability. Therefore it's it is not a reliable variable.</p>\n"
   ]
  },
  {
   "cell_type": "code",
   "execution_count": 30,
   "metadata": {},
   "outputs": [
    {
     "data": {
      "text/html": [
       "<div>\n",
       "<style scoped>\n",
       "    .dataframe tbody tr th:only-of-type {\n",
       "        vertical-align: middle;\n",
       "    }\n",
       "\n",
       "    .dataframe tbody tr th {\n",
       "        vertical-align: top;\n",
       "    }\n",
       "\n",
       "    .dataframe thead th {\n",
       "        text-align: right;\n",
       "    }\n",
       "</style>\n",
       "<table border=\"1\" class=\"dataframe\">\n",
       "  <thead>\n",
       "    <tr style=\"text-align: right;\">\n",
       "      <th></th>\n",
       "      <th>Name</th>\n",
       "      <th>Genre</th>\n",
       "      <th>Country</th>\n",
       "      <th>Song_Name</th>\n",
       "      <th>Timestamp</th>\n",
       "    </tr>\n",
       "  </thead>\n",
       "  <tbody>\n",
       "    <tr>\n",
       "      <th>count</th>\n",
       "      <td>78458</td>\n",
       "      <td>78458</td>\n",
       "      <td>78458</td>\n",
       "      <td>78457</td>\n",
       "      <td>78458</td>\n",
       "    </tr>\n",
       "    <tr>\n",
       "      <th>unique</th>\n",
       "      <td>1209</td>\n",
       "      <td>21</td>\n",
       "      <td>1</td>\n",
       "      <td>78457</td>\n",
       "      <td>68187</td>\n",
       "    </tr>\n",
       "    <tr>\n",
       "      <th>top</th>\n",
       "      <td>Mixmag</td>\n",
       "      <td>danceedm</td>\n",
       "      <td>AU</td>\n",
       "      <td>Michael White - All Eyes On Me [NCS Release]</td>\n",
       "      <td>2011-01-01 00:00:00.000000</td>\n",
       "    </tr>\n",
       "    <tr>\n",
       "      <th>freq</th>\n",
       "      <td>2065</td>\n",
       "      <td>22633</td>\n",
       "      <td>78458</td>\n",
       "      <td>1</td>\n",
       "      <td>274</td>\n",
       "    </tr>\n",
       "  </tbody>\n",
       "</table>\n",
       "</div>"
      ],
      "text/plain": [
       "          Name     Genre Country  \\\n",
       "count    78458     78458   78458   \n",
       "unique    1209        21       1   \n",
       "top     Mixmag  danceedm      AU   \n",
       "freq      2065     22633   78458   \n",
       "\n",
       "                                           Song_Name  \\\n",
       "count                                          78457   \n",
       "unique                                         78457   \n",
       "top     Michael White - All Eyes On Me [NCS Release]   \n",
       "freq                                               1   \n",
       "\n",
       "                         Timestamp  \n",
       "count                        78458  \n",
       "unique                       68187  \n",
       "top     2011-01-01 00:00:00.000000  \n",
       "freq                           274  "
      ]
     },
     "execution_count": 30,
     "metadata": {},
     "output_type": "execute_result"
    }
   ],
   "source": [
    "data_train.describe(include=['object'])"
   ]
  },
  {
   "cell_type": "code",
   "execution_count": 32,
   "metadata": {},
   "outputs": [
    {
     "data": {
      "text/html": [
       "<div>\n",
       "<style scoped>\n",
       "    .dataframe tbody tr th:only-of-type {\n",
       "        vertical-align: middle;\n",
       "    }\n",
       "\n",
       "    .dataframe tbody tr th {\n",
       "        vertical-align: top;\n",
       "    }\n",
       "\n",
       "    .dataframe thead th {\n",
       "        text-align: right;\n",
       "    }\n",
       "</style>\n",
       "<table border=\"1\" class=\"dataframe\">\n",
       "  <thead>\n",
       "    <tr style=\"text-align: right;\">\n",
       "      <th></th>\n",
       "      <th>Genre</th>\n",
       "    </tr>\n",
       "  </thead>\n",
       "  <tbody>\n",
       "    <tr>\n",
       "      <th>danceedm</th>\n",
       "      <td>22633</td>\n",
       "    </tr>\n",
       "    <tr>\n",
       "      <th>electronic</th>\n",
       "      <td>18331</td>\n",
       "    </tr>\n",
       "    <tr>\n",
       "      <th>all-music</th>\n",
       "      <td>10277</td>\n",
       "    </tr>\n",
       "    <tr>\n",
       "      <th>rbsoul</th>\n",
       "      <td>5411</td>\n",
       "    </tr>\n",
       "    <tr>\n",
       "      <th>latin</th>\n",
       "      <td>4562</td>\n",
       "    </tr>\n",
       "    <tr>\n",
       "      <th>trap</th>\n",
       "      <td>4055</td>\n",
       "    </tr>\n",
       "    <tr>\n",
       "      <th>rock</th>\n",
       "      <td>4000</td>\n",
       "    </tr>\n",
       "    <tr>\n",
       "      <th>deephouse</th>\n",
       "      <td>2423</td>\n",
       "    </tr>\n",
       "    <tr>\n",
       "      <th>pop</th>\n",
       "      <td>1787</td>\n",
       "    </tr>\n",
       "    <tr>\n",
       "      <th>dubstep</th>\n",
       "      <td>1100</td>\n",
       "    </tr>\n",
       "    <tr>\n",
       "      <th>ambient</th>\n",
       "      <td>847</td>\n",
       "    </tr>\n",
       "    <tr>\n",
       "      <th>classical</th>\n",
       "      <td>767</td>\n",
       "    </tr>\n",
       "    <tr>\n",
       "      <th>drumbass</th>\n",
       "      <td>671</td>\n",
       "    </tr>\n",
       "    <tr>\n",
       "      <th>metal</th>\n",
       "      <td>523</td>\n",
       "    </tr>\n",
       "    <tr>\n",
       "      <th>disco</th>\n",
       "      <td>374</td>\n",
       "    </tr>\n",
       "    <tr>\n",
       "      <th>country</th>\n",
       "      <td>336</td>\n",
       "    </tr>\n",
       "    <tr>\n",
       "      <th>alternativerock</th>\n",
       "      <td>156</td>\n",
       "    </tr>\n",
       "    <tr>\n",
       "      <th>hiphoprap</th>\n",
       "      <td>100</td>\n",
       "    </tr>\n",
       "    <tr>\n",
       "      <th>reggaeton</th>\n",
       "      <td>55</td>\n",
       "    </tr>\n",
       "    <tr>\n",
       "      <th>folksingersongwriter</th>\n",
       "      <td>39</td>\n",
       "    </tr>\n",
       "    <tr>\n",
       "      <th>indie</th>\n",
       "      <td>11</td>\n",
       "    </tr>\n",
       "  </tbody>\n",
       "</table>\n",
       "</div>"
      ],
      "text/plain": [
       "                      Genre\n",
       "danceedm              22633\n",
       "electronic            18331\n",
       "all-music             10277\n",
       "rbsoul                 5411\n",
       "latin                  4562\n",
       "trap                   4055\n",
       "rock                   4000\n",
       "deephouse              2423\n",
       "pop                    1787\n",
       "dubstep                1100\n",
       "ambient                 847\n",
       "classical               767\n",
       "drumbass                671\n",
       "metal                   523\n",
       "disco                   374\n",
       "country                 336\n",
       "alternativerock         156\n",
       "hiphoprap               100\n",
       "reggaeton                55\n",
       "folksingersongwriter     39\n",
       "indie                    11"
      ]
     },
     "execution_count": 32,
     "metadata": {},
     "output_type": "execute_result"
    }
   ],
   "source": [
    "data_train['Genre'].value_counts().to_frame()"
   ]
  },
  {
   "cell_type": "code",
   "execution_count": 33,
   "metadata": {},
   "outputs": [
    {
     "data": {
      "text/plain": [
       "<AxesSubplot:>"
      ]
     },
     "execution_count": 33,
     "metadata": {},
     "output_type": "execute_result"
    },
    {
     "data": {
      "image/png": "[encoded data removed]",
      "text/plain": [
       "<Figure size 432x288 with 2 Axes>"
      ]
     },
     "metadata": {
      "needs_background": "light"
     },
     "output_type": "display_data"
    }
   ],
   "source": [
    "sns.heatmap(data_train.corr(), cmap='coolwarm')"
   ]
  },
  {
   "cell_type": "markdown",
   "metadata": {},
   "source": [
    "### P-value"
   ]
  },
  {
   "cell_type": "markdown",
   "metadata": {},
   "source": [
    "Likes vs Views"
   ]
  },
  {
   "cell_type": "code",
   "execution_count": 36,
   "metadata": {},
   "outputs": [
    {
     "name": "stdout",
     "output_type": "stream",
     "text": [
      "The Pearson Correlation Coefficient is 0.9801320569227572  with a P-value of P = 0.0\n"
     ]
    }
   ],
   "source": [
    "pearson_coef, p_value = stats.pearsonr(data_train['Likes'], data_train['Views'])\n",
    "print(\"The Pearson Correlation Coefficient is\", pearson_coef, \" with a P-value of P =\", p_value)  "
   ]
  },
  {
   "cell_type": "markdown",
   "metadata": {},
   "source": [
    "#### Conclusion\n",
    "<p>Since the p-value is $<$ 0.001, the correlation between Likes and Views is statistically significant, also the linear relationship is extremely strong (~0.98)</p>"
   ]
  },
  {
   "cell_type": "markdown",
   "metadata": {},
   "source": [
    "Comments vs Views"
   ]
  },
  {
   "cell_type": "code",
   "execution_count": 39,
   "metadata": {},
   "outputs": [
    {
     "name": "stdout",
     "output_type": "stream",
     "text": [
      "The Pearson Correlation Coefficient is 0.6791042273098138  with a P-value of P = 0.0\n"
     ]
    }
   ],
   "source": [
    "pearson_coef, p_value = stats.pearsonr(data_train['Comments'], data_train['Views'])\n",
    "print(\"The Pearson Correlation Coefficient is\", pearson_coef, \" with a P-value of P =\", p_value)  "
   ]
  },
  {
   "cell_type": "markdown",
   "metadata": {},
   "source": [
    "#### Conclusion\n",
    "<p>Since the p-value is $<$ 0.001, the correlation between Comments and Views is statistically significant, although the linear relationship is moderately strong (~0.68)</p>"
   ]
  },
  {
   "cell_type": "markdown",
   "metadata": {},
   "source": [
    "Poplularity vs Views"
   ]
  },
  {
   "cell_type": "code",
   "execution_count": 41,
   "metadata": {},
   "outputs": [
    {
     "name": "stdout",
     "output_type": "stream",
     "text": [
      "The Pearson Correlation Coefficient is 0.8346354219703414  with a P-value of P = 0.0\n"
     ]
    }
   ],
   "source": [
    "pearson_coef, p_value = stats.pearsonr(data_train['Popularity'], data_train['Views'])\n",
    "print(\"The Pearson Correlation Coefficient is\", pearson_coef, \" with a P-value of P =\", p_value)  "
   ]
  },
  {
   "cell_type": "markdown",
   "metadata": {},
   "source": [
    "#### Conclusion\n",
    "<p>Since the p-value is $<$ 0.001, the correlation between Popularity and Views is statistically significant, also the linear relationship is extremely strong (~0.83)</p>"
   ]
  },
  {
   "cell_type": "markdown",
   "metadata": {},
   "source": [
    "Followers vs Views"
   ]
  },
  {
   "cell_type": "code",
   "execution_count": 43,
   "metadata": {},
   "outputs": [
    {
     "name": "stdout",
     "output_type": "stream",
     "text": [
      "The Pearson Correlation Coefficient is 0.10360323988059138  with a P-value of P = 3.861151441991081e-186\n"
     ]
    }
   ],
   "source": [
    "pearson_coef, p_value = stats.pearsonr(data_train['Followers'], data_train['Views'])\n",
    "print(\"The Pearson Correlation Coefficient is\", pearson_coef, \" with a P-value of P =\", p_value)  "
   ]
  },
  {
   "cell_type": "markdown",
   "metadata": {},
   "source": [
    "#### Conclusion\n",
    "<p>Since the p-value is $<$ 0.001, the correlation between Followers and Views is statistically significant, although the linear relationship is extremely week (~0.1)</p>"
   ]
  },
  {
   "cell_type": "markdown",
   "metadata": {},
   "source": [
    "<h3>Conclusion: Important Variables</h3>\n"
   ]
  },
  {
   "cell_type": "markdown",
   "metadata": {},
   "source": [
    "<p>We now have a better idea of what our data looks like and which variables are important to take into account when predicting the car price. We have narrowed it down to the following variables:</p>\n",
    "\n",
    "Continuous numerical variables:\n",
    "\n",
    "<ul>\n",
    "    <li>Likes</li>\n",
    "    <li>Comments</li>\n",
    "    <li>Popularity</li>\n",
    "    <li>Followers</li>\n",
    "</ul>"
   ]
  },
  {
   "cell_type": "code",
   "execution_count": 114,
   "metadata": {},
   "outputs": [
    {
     "data": {
      "text/plain": [
       "Index(['Unique_ID', 'Name', 'Genre', 'Country', 'Song_Name', 'Timestamp',\n",
       "       'Views', 'Comments', 'Likes', 'Popularity', 'Followers'],\n",
       "      dtype='object')"
      ]
     },
     "execution_count": 114,
     "metadata": {},
     "output_type": "execute_result"
    }
   ],
   "source": [
    "data_train.columns"
   ]
  },
  {
   "cell_type": "code",
   "execution_count": 115,
   "metadata": {},
   "outputs": [],
   "source": [
    "X = data_train[['Comments', 'Likes', 'Popularity', 'Followers']]\n",
    "Y = data_train['Views']"
   ]
  },
  {
   "cell_type": "code",
   "execution_count": 116,
   "metadata": {},
   "outputs": [
    {
     "data": {
      "text/plain": [
       "((78458, 4), (78458,))"
      ]
     },
     "execution_count": 116,
     "metadata": {},
     "output_type": "execute_result"
    }
   ],
   "source": [
    "X.shape, Y.shape"
   ]
  },
  {
   "cell_type": "code",
   "execution_count": 117,
   "metadata": {},
   "outputs": [],
   "source": [
    "from sklearn.preprocessing import StandardScaler"
   ]
  },
  {
   "cell_type": "code",
   "execution_count": 118,
   "metadata": {},
   "outputs": [],
   "source": [
    "ss = StandardScaler()"
   ]
  },
  {
   "cell_type": "code",
   "execution_count": 119,
   "metadata": {},
   "outputs": [
    {
     "data": {
      "text/plain": [
       "array([[-0.15355976, -0.15769982, -0.17126127, -0.30750745],\n",
       "       [-0.13561908, -0.16622674, -0.1878921 , -0.40803029],\n",
       "       [-0.14389939, -0.16124323, -0.17250858, -0.39081705],\n",
       "       ...,\n",
       "       [-0.15769991, -0.16418028, -0.1849817 ,  0.79126846],\n",
       "       [-0.12595871, -0.16012525, -0.17292435, -0.28680739],\n",
       "       [-0.15355976, -0.13249804, -0.17666629, -0.33359997]])"
      ]
     },
     "execution_count": 119,
     "metadata": {},
     "output_type": "execute_result"
    }
   ],
   "source": [
    "X = ss.fit_transform(X)\n",
    "X"
   ]
  },
  {
   "cell_type": "code",
   "execution_count": 120,
   "metadata": {},
   "outputs": [],
   "source": [
    "from sklearn.model_selection import train_test_split"
   ]
  },
  {
   "cell_type": "code",
   "execution_count": 121,
   "metadata": {},
   "outputs": [],
   "source": [
    "x_train, x_val, y_train, y_val = train_test_split(X, Y, test_size=0.3, random_state=1)"
   ]
  },
  {
   "cell_type": "code",
   "execution_count": 122,
   "metadata": {},
   "outputs": [
    {
     "data": {
      "text/plain": [
       "((54920, 4), (23538, 4), (54920,), (23538,))"
      ]
     },
     "execution_count": 122,
     "metadata": {},
     "output_type": "execute_result"
    }
   ],
   "source": [
    "x_train.shape, x_val.shape, y_train.shape, y_val.shape"
   ]
  },
  {
   "cell_type": "code",
   "execution_count": 123,
   "metadata": {},
   "outputs": [],
   "source": [
    "from sklearn.linear_model import LinearRegression"
   ]
  },
  {
   "cell_type": "code",
   "execution_count": 124,
   "metadata": {},
   "outputs": [],
   "source": [
    "model = LinearRegression()"
   ]
  },
  {
   "cell_type": "code",
   "execution_count": 125,
   "metadata": {},
   "outputs": [
    {
     "data": {
      "text/plain": [
       "LinearRegression()"
      ]
     },
     "execution_count": 125,
     "metadata": {},
     "output_type": "execute_result"
    }
   ],
   "source": [
    "model.fit(x_train, y_train)"
   ]
  },
  {
   "cell_type": "code",
   "execution_count": 126,
   "metadata": {},
   "outputs": [],
   "source": [
    "ypred = model.predict(x_val)"
   ]
  },
  {
   "cell_type": "code",
   "execution_count": 127,
   "metadata": {},
   "outputs": [
    {
     "data": {
      "text/plain": [
       "(23538,)"
      ]
     },
     "execution_count": 127,
     "metadata": {},
     "output_type": "execute_result"
    }
   ],
   "source": [
    "ypred.shape"
   ]
  },
  {
   "cell_type": "code",
   "execution_count": 128,
   "metadata": {},
   "outputs": [
    {
     "data": {
      "text/plain": [
       "(23538,)"
      ]
     },
     "execution_count": 128,
     "metadata": {},
     "output_type": "execute_result"
    }
   ],
   "source": [
    "y_val.shape"
   ]
  },
  {
   "cell_type": "code",
   "execution_count": 129,
   "metadata": {},
   "outputs": [
    {
     "data": {
      "text/plain": [
       "840794.8732949211"
      ]
     },
     "execution_count": 129,
     "metadata": {},
     "output_type": "execute_result"
    }
   ],
   "source": [
    "np.sqrt(np.mean(np.square(ypred-y_val)))"
   ]
  },
  {
   "cell_type": "code",
   "execution_count": 138,
   "metadata": {},
   "outputs": [
    {
     "data": {
      "text/plain": [
       "899192.0160749903"
      ]
     },
     "execution_count": 138,
     "metadata": {},
     "output_type": "execute_result"
    }
   ],
   "source": [
    "x_train, x_val, y_train, y_val = train_test_split(X, Y, test_size=0.25, random_state=1)\n",
    "from sklearn.linear_model import LinearRegression\n",
    "model = LinearRegression()\n",
    "model.fit(x_train, y_train)\n",
    "ypred = model.predict(x_val)\n",
    "np.sqrt(np.mean(np.square(ypred-y_val)))"
   ]
  },
  {
   "cell_type": "code",
   "execution_count": 139,
   "metadata": {},
   "outputs": [
    {
     "data": {
      "text/plain": [
       "684916.138170773"
      ]
     },
     "execution_count": 139,
     "metadata": {},
     "output_type": "execute_result"
    }
   ],
   "source": [
    "np.sqrt(np.mean(np.square(model.predict(x_train)-y_train)))"
   ]
  },
  {
   "cell_type": "code",
   "execution_count": 140,
   "metadata": {},
   "outputs": [
    {
     "data": {
      "text/plain": [
       "(899192.0160749903, 684916.138170773)"
      ]
     },
     "execution_count": 140,
     "metadata": {},
     "output_type": "execute_result"
    }
   ],
   "source": [
    "np.sqrt(np.mean(np.square(ypred-y_val))), np.sqrt(np.mean(np.square(model.predict(x_train)-y_train)))"
   ]
  },
  {
   "cell_type": "markdown",
   "metadata": {},
   "source": [
    "# TESTING"
   ]
  },
  {
   "cell_type": "code",
   "execution_count": 146,
   "metadata": {},
   "outputs": [],
   "source": [
    "datatest = pd.read_csv(\"Data_Test.csv\")"
   ]
  },
  {
   "cell_type": "code",
   "execution_count": 147,
   "metadata": {},
   "outputs": [
    {
     "data": {
      "text/html": [
       "<div>\n",
       "<style scoped>\n",
       "    .dataframe tbody tr th:only-of-type {\n",
       "        vertical-align: middle;\n",
       "    }\n",
       "\n",
       "    .dataframe tbody tr th {\n",
       "        vertical-align: top;\n",
       "    }\n",
       "\n",
       "    .dataframe thead th {\n",
       "        text-align: right;\n",
       "    }\n",
       "</style>\n",
       "<table border=\"1\" class=\"dataframe\">\n",
       "  <thead>\n",
       "    <tr style=\"text-align: right;\">\n",
       "      <th></th>\n",
       "      <th>Unique_ID</th>\n",
       "      <th>Name</th>\n",
       "      <th>Genre</th>\n",
       "      <th>Country</th>\n",
       "      <th>Song_Name</th>\n",
       "      <th>Timestamp</th>\n",
       "      <th>Comments</th>\n",
       "      <th>Likes</th>\n",
       "      <th>Popularity</th>\n",
       "      <th>Followers</th>\n",
       "    </tr>\n",
       "  </thead>\n",
       "  <tbody>\n",
       "    <tr>\n",
       "      <th>0</th>\n",
       "      <td>562546</td>\n",
       "      <td>L2Share♫79</td>\n",
       "      <td>all-music</td>\n",
       "      <td>AU</td>\n",
       "      <td>엔플라잉 N.Flying - Rooftop (옥탑방)</td>\n",
       "      <td>2019-01-02 09:49:19.000000</td>\n",
       "      <td>26</td>\n",
       "      <td>5,428</td>\n",
       "      <td>118</td>\n",
       "      <td>2568</td>\n",
       "    </tr>\n",
       "    <tr>\n",
       "      <th>1</th>\n",
       "      <td>907584</td>\n",
       "      <td>Morgan Page</td>\n",
       "      <td>danceedm</td>\n",
       "      <td>AU</td>\n",
       "      <td>Morgan Page - In The Air - Episode 246</td>\n",
       "      <td>2015-03-09 17:30:10.000000</td>\n",
       "      <td>18</td>\n",
       "      <td>738</td>\n",
       "      <td>195</td>\n",
       "      <td>155645</td>\n",
       "    </tr>\n",
       "  </tbody>\n",
       "</table>\n",
       "</div>"
      ],
      "text/plain": [
       "   Unique_ID         Name      Genre Country  \\\n",
       "0     562546   L2Share♫79  all-music      AU   \n",
       "1     907584  Morgan Page   danceedm      AU   \n",
       "\n",
       "                                Song_Name                   Timestamp  \\\n",
       "0           엔플라잉 N.Flying - Rooftop (옥탑방)  2019-01-02 09:49:19.000000   \n",
       "1  Morgan Page - In The Air - Episode 246  2015-03-09 17:30:10.000000   \n",
       "\n",
       "   Comments  Likes Popularity  Followers  \n",
       "0        26  5,428        118       2568  \n",
       "1        18    738        195     155645  "
      ]
     },
     "execution_count": 147,
     "metadata": {},
     "output_type": "execute_result"
    }
   ],
   "source": [
    "datatest.head(2)"
   ]
  },
  {
   "cell_type": "code",
   "execution_count": 166,
   "metadata": {},
   "outputs": [
    {
     "name": "stdout",
     "output_type": "stream",
     "text": [
      "<class 'pandas.core.frame.DataFrame'>\n",
      "RangeIndex: 19615 entries, 0 to 19614\n",
      "Data columns (total 10 columns):\n",
      " #   Column      Non-Null Count  Dtype \n",
      "---  ------      --------------  ----- \n",
      " 0   Unique_ID   19615 non-null  int64 \n",
      " 1   Name        19615 non-null  object\n",
      " 2   Genre       19615 non-null  object\n",
      " 3   Country     19615 non-null  object\n",
      " 4   Song_Name   19615 non-null  object\n",
      " 5   Timestamp   19615 non-null  object\n",
      " 6   Comments    19615 non-null  int64 \n",
      " 7   Likes       19615 non-null  int32 \n",
      " 8   Popularity  19615 non-null  int32 \n",
      " 9   Followers   19615 non-null  int64 \n",
      "dtypes: int32(2), int64(3), object(5)\n",
      "memory usage: 996.1+ KB\n"
     ]
    }
   ],
   "source": [
    "datatest.info()"
   ]
  },
  {
   "cell_type": "code",
   "execution_count": 148,
   "metadata": {},
   "outputs": [],
   "source": [
    "datatest['Likes'] = datatest['Likes'].apply(lambda s:s.replace(',',''))"
   ]
  },
  {
   "cell_type": "code",
   "execution_count": 149,
   "metadata": {},
   "outputs": [],
   "source": [
    "def func(x):\n",
    "    if x[-1] == 'K':\n",
    "        return 1000*pd.to_numeric(re.sub('[^\\d.]', '', x))\n",
    "    elif x[-1] == 'M':\n",
    "        return 1000000*pd.to_numeric(re.sub('[^\\d.]', '', x))\n",
    "    else:\n",
    "        return pd.to_numeric(x)\n",
    "datatest['Likes'] = datatest['Likes'].apply(func)\n",
    "datatest['Likes'] = datatest['Likes'].astype(int)"
   ]
  },
  {
   "cell_type": "code",
   "execution_count": 150,
   "metadata": {},
   "outputs": [],
   "source": [
    "datatest['Popularity'] = datatest['Popularity'].apply(lambda s:s.replace(',',''))"
   ]
  },
  {
   "cell_type": "code",
   "execution_count": 151,
   "metadata": {},
   "outputs": [],
   "source": [
    "def func1(y):\n",
    "    if y[-1] == 'K':\n",
    "        return 1000*pd.to_numeric(re.sub('[^\\d.]','',y))\n",
    "    elif y[-1] == 'M':\n",
    "        return 1000000*pd.to_numeric(re.sub('[^\\d.]','',y))\n",
    "    else:\n",
    "        return pd.to_numeric(y)\n",
    "datatest['Popularity'] = datatest['Popularity'].apply(func1)\n",
    "datatest['Popularity'] = datatest['Popularity'].astype(int)"
   ]
  },
  {
   "cell_type": "code",
   "execution_count": 152,
   "metadata": {},
   "outputs": [
    {
     "data": {
      "text/plain": [
       "<AxesSubplot:>"
      ]
     },
     "execution_count": 152,
     "metadata": {},
     "output_type": "execute_result"
    },
    {
     "data": {
      "image/png": "[encoded data removed]",
      "text/plain": [
       "<Figure size 432x288 with 2 Axes>"
      ]
     },
     "metadata": {
      "needs_background": "light"
     },
     "output_type": "display_data"
    }
   ],
   "source": [
    "sns.heatmap(datatest.corr(), cmap='coolwarm')"
   ]
  },
  {
   "cell_type": "code",
   "execution_count": 172,
   "metadata": {},
   "outputs": [
    {
     "data": {
      "text/plain": [
       "(19615, 4)"
      ]
     },
     "execution_count": 172,
     "metadata": {},
     "output_type": "execute_result"
    }
   ],
   "source": [
    "X1 = datatest[['Comments', 'Likes', 'Popularity', 'Followers']]\n",
    "X1.shape"
   ]
  },
  {
   "cell_type": "code",
   "execution_count": 173,
   "metadata": {},
   "outputs": [],
   "source": [
    "X1 = ss.fit_transform(X1)"
   ]
  },
  {
   "cell_type": "code",
   "execution_count": 174,
   "metadata": {},
   "outputs": [
    {
     "data": {
      "text/plain": [
       "(19615, 4)"
      ]
     },
     "execution_count": 174,
     "metadata": {},
     "output_type": "execute_result"
    }
   ],
   "source": [
    "X1.shape"
   ]
  },
  {
   "cell_type": "code",
   "execution_count": 175,
   "metadata": {},
   "outputs": [
    {
     "data": {
      "text/plain": [
       "array([[-0.10647249, -0.06800573, -0.16674032, -0.41107355],\n",
       "       [-0.11564581, -0.15824975, -0.15147465, -0.28017874],\n",
       "       [-0.11564581, -0.16502286, -0.17110194, -0.3880904 ],\n",
       "       ...,\n",
       "       [-0.13055246, -0.17169976, -0.1877554 , -0.2719502 ],\n",
       "       [-0.00671257, -0.1002165 , -0.05809631, -0.36831471],\n",
       "       [-0.12481914, -0.16038559, -0.16218044, -0.31103214]])"
      ]
     },
     "execution_count": 175,
     "metadata": {},
     "output_type": "execute_result"
    }
   ],
   "source": [
    "X1"
   ]
  },
  {
   "cell_type": "code",
   "execution_count": 176,
   "metadata": {},
   "outputs": [
    {
     "name": "stdout",
     "output_type": "stream",
     "text": [
      "684916.138170773 684916.138170773\n",
      "Wall time: 33.3 ms\n"
     ]
    }
   ],
   "source": [
    "%%time\n",
    "model = LinearRegression()\n",
    "\n",
    "model.fit(x_train, y_train)\n",
    "\n",
    "ypred = model.predict(x_train)\n",
    "\n",
    "print(np.sqrt(np.mean(np.square(ypred-y_train))), np.sqrt(np.mean(np.square(model.predict(x_train)-y_train))))\n"
   ]
  },
  {
   "cell_type": "code",
   "execution_count": 177,
   "metadata": {},
   "outputs": [
    {
     "data": {
      "text/plain": [
       "(58843,)"
      ]
     },
     "execution_count": 177,
     "metadata": {},
     "output_type": "execute_result"
    }
   ],
   "source": [
    "y_train.shape"
   ]
  },
  {
   "cell_type": "code",
   "execution_count": 178,
   "metadata": {},
   "outputs": [
    {
     "data": {
      "text/plain": [
       "(58843,)"
      ]
     },
     "execution_count": 178,
     "metadata": {},
     "output_type": "execute_result"
    }
   ],
   "source": [
    "ypred.shape"
   ]
  },
  {
   "cell_type": "code",
   "execution_count": 179,
   "metadata": {},
   "outputs": [],
   "source": [
    "test_ids = datatest.Unique_ID"
   ]
  },
  {
   "cell_type": "code",
   "execution_count": 180,
   "metadata": {},
   "outputs": [],
   "source": [
    "ypred = model.predict(X1)"
   ]
  },
  {
   "cell_type": "code",
   "execution_count": 184,
   "metadata": {},
   "outputs": [],
   "source": [
    "results = pd.DataFrame()\n",
    "results['Unique_ID'] = test_ids\n",
    "results['Views'] = abs(ypred)\n",
    "# results.to_excel('results.xlsx', index=False)"
   ]
  },
  {
   "cell_type": "code",
   "execution_count": 185,
   "metadata": {},
   "outputs": [
    {
     "data": {
      "text/html": [
       "<div>\n",
       "<style scoped>\n",
       "    .dataframe tbody tr th:only-of-type {\n",
       "        vertical-align: middle;\n",
       "    }\n",
       "\n",
       "    .dataframe tbody tr th {\n",
       "        vertical-align: top;\n",
       "    }\n",
       "\n",
       "    .dataframe thead th {\n",
       "        text-align: right;\n",
       "    }\n",
       "</style>\n",
       "<table border=\"1\" class=\"dataframe\">\n",
       "  <thead>\n",
       "    <tr style=\"text-align: right;\">\n",
       "      <th></th>\n",
       "      <th>Unique_ID</th>\n",
       "      <th>Views</th>\n",
       "    </tr>\n",
       "  </thead>\n",
       "  <tbody>\n",
       "    <tr>\n",
       "      <th>0</th>\n",
       "      <td>562546</td>\n",
       "      <td>319164.350429</td>\n",
       "    </tr>\n",
       "    <tr>\n",
       "      <th>1</th>\n",
       "      <td>907584</td>\n",
       "      <td>51930.549439</td>\n",
       "    </tr>\n",
       "    <tr>\n",
       "      <th>2</th>\n",
       "      <td>213013</td>\n",
       "      <td>72641.246099</td>\n",
       "    </tr>\n",
       "    <tr>\n",
       "      <th>3</th>\n",
       "      <td>340312</td>\n",
       "      <td>71738.968333</td>\n",
       "    </tr>\n",
       "    <tr>\n",
       "      <th>4</th>\n",
       "      <td>41854</td>\n",
       "      <td>92055.323715</td>\n",
       "    </tr>\n",
       "  </tbody>\n",
       "</table>\n",
       "</div>"
      ],
      "text/plain": [
       "   Unique_ID          Views\n",
       "0     562546  319164.350429\n",
       "1     907584   51930.549439\n",
       "2     213013   72641.246099\n",
       "3     340312   71738.968333\n",
       "4      41854   92055.323715"
      ]
     },
     "execution_count": 185,
     "metadata": {},
     "output_type": "execute_result"
    }
   ],
   "source": [
    "results.head()"
   ]
  },
  {
   "cell_type": "code",
   "execution_count": null,
   "metadata": {},
   "outputs": [],
   "source": []
  }
 ],
 "metadata": {
  "kernelspec": {
   "display_name": "Python 3",
   "language": "python",
   "name": "python3"
  },
  "language_info": {
   "codemirror_mode": {
    "name": "ipython",
    "version": 3
   },
   "file_extension": ".py",
   "mimetype": "text/x-python",
   "name": "python",
   "nbconvert_exporter": "python",
   "pygments_lexer": "ipython3",
   "version": "3.8.5"
  }
 },
 "nbformat": 4,
 "nbformat_minor": 4
}
